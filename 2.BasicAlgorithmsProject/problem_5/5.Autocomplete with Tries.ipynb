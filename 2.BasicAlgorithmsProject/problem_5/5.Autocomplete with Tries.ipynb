{
 "cells": [
  {
   "cell_type": "markdown",
   "id": "215d25a9",
   "metadata": {},
   "source": [
    "# Building a Trie in Python\n",
    "\n",
    "Before we start let us reiterate the key components of a Trie or Prefix Tree. A trie is a tree-like data structure that stores a dynamic set of strings. Tries are commonly used to facilitate operations like predictive text or autocomplete features on mobile phones or web search.\n",
    "\n",
    "Before we move into the autocomplete function we need to create a working trie for storing strings.  We will create two classes:\n",
    "* A `Trie` class that contains the root node (empty string)\n",
    "* A `TrieNode` class that exposes the general functionality of the Trie, like inserting a word or finding the node which represents a prefix.\n",
    "\n",
    "Give it a try by implementing the `TrieNode` and `Trie` classes below!"
   ]
  },
  {
   "cell_type": "code",
   "execution_count": 6,
   "id": "15965f89",
   "metadata": {},
   "outputs": [],
   "source": [
    "class TrieNode(object):\n",
    "    def __init__(self):\n",
    "        self.is_word = False\n",
    "        self.children = {}\n",
    "        \n",
    "    def insert(self,char):\n",
    "        self.children[char]=TrieNode()\n",
    "\n",
    "class Trie(object):\n",
    "    def __init__(self):\n",
    "        self.root = TrieNode()\n",
    "\n",
    "    def add(self, word):\n",
    "        \"\"\"\n",
    "        Add `word` to trie\n",
    "        \"\"\"\n",
    "        current_node = self.root\n",
    "\n",
    "        for char in word:\n",
    "            if char not in current_node.children:\n",
    "                current_node.insert(char)\n",
    "            current_node = current_node.children[char]\n",
    "\n",
    "        current_node.is_word = True\n",
    "\n",
    "    def exists(self, word):\n",
    "        \"\"\"\n",
    "        Check if word exists in trie\n",
    "        \"\"\"\n",
    "        current_node = self.root\n",
    "\n",
    "        for char in word:\n",
    "            if char not in current_node.children:\n",
    "                return False\n",
    "            current_node = current_node.children[char]\n",
    "\n",
    "        return current_node.is_word"
   ]
  },
  {
   "cell_type": "code",
   "execution_count": 7,
   "id": "cc5e9680",
   "metadata": {},
   "outputs": [
    {
     "name": "stdout",
     "output_type": "stream",
     "text": [
      "\"bear\" is a word.\n",
      "\"goo\" is a word.\n",
      "\"good\" is a word.\n",
      "\"goos\" is not a word.\n"
     ]
    }
   ],
   "source": [
    "# Test\n",
    "word_list = ['apple', 'bear', 'goo', 'good', 'goodbye', 'goods', 'goodwill', 'gooses'  ,'zebra']\n",
    "word_trie = Trie()\n",
    "\n",
    "# Add words\n",
    "for word in word_list:\n",
    "    word_trie.add(word)\n",
    "\n",
    "# Test words\n",
    "test_words = ['bear', 'goo', 'good', 'goos']\n",
    "for word in test_words:\n",
    "    if word_trie.exists(word):\n",
    "        print('\"{}\" is a word.'.format(word))\n",
    "    else:\n",
    "        print('\"{}\" is not a word.'.format(word))"
   ]
  },
  {
   "cell_type": "markdown",
   "id": "702bd6e8",
   "metadata": {},
   "source": [
    "# Finding Suffixes\n",
    "\n",
    "Now that we have a functioning Trie, we need to add the ability to list suffixes to implement our autocomplete feature.  To do that, we need to implement a new function on the `TrieNode` object that will return all complete word suffixes that exist below it in the trie.  For example, if our Trie contains the words `[\"fun\", \"function\", \"factory\"]` and we ask for suffixes from the `f` node, we would expect to receive `[\"un\", \"unction\", \"actory\"]` back from `node.suffixes()`.\n",
    "\n",
    "Using the code you wrote for the `TrieNode` above, try to add the suffixes function below. (Hint: recurse down the trie, collecting suffixes as you go.)"
   ]
  },
  {
   "cell_type": "code",
   "execution_count": 8,
   "id": "2840fa33",
   "metadata": {},
   "outputs": [],
   "source": [
    "class TrieNode(object):\n",
    "    def __init__(self):\n",
    "        self.is_word = False\n",
    "        self.children = {}\n",
    "        \n",
    "    def insert(self,char):\n",
    "        self.children[char]=TrieNode()\n",
    "    \n",
    "    def suffixes(self, result=''):\n",
    "        results=[]\n",
    "        for char, node in self.children.items():\n",
    "            if node.is_word:\n",
    "                results.append(result+char)\n",
    "            if node.children:\n",
    "                results+=node.suffixes(result+char)\n",
    "        return results\n",
    "\n",
    "class Trie(object):\n",
    "    def __init__(self):\n",
    "        self.root = TrieNode()\n",
    "\n",
    "    def add(self, word):\n",
    "        \"\"\"\n",
    "        Add `word` to trie\n",
    "        \"\"\"\n",
    "        current_node = self.root\n",
    "\n",
    "        for char in word:\n",
    "            if char not in current_node.children:\n",
    "                current_node.children[char] = TrieNode()\n",
    "            current_node = current_node.children[char]\n",
    "\n",
    "        current_node.is_word = True\n",
    "\n",
    "    def exists(self, word):\n",
    "        \"\"\"\n",
    "        Check if word exists in trie\n",
    "        \"\"\"\n",
    "        current_node = self.root\n",
    "\n",
    "        for char in word:\n",
    "            if char not in current_node.children:\n",
    "                return False\n",
    "            current_node = current_node.children[char]\n",
    "\n",
    "        return current_node.is_word\n",
    "    \n",
    "    def find_prefix(self,prefix):\n",
    "        current_node=self.root\n",
    "        \n",
    "        for char in prefix:\n",
    "            if char not in current_node.children:\n",
    "                return False\n",
    "            current_node=current_node.children[char]\n",
    "        \n",
    "        return current_node"
   ]
  },
  {
   "cell_type": "markdown",
   "id": "72df238c",
   "metadata": {},
   "source": [
    "# Testing it all out\n",
    "\n",
    "Run the following code to add some words to your trie and then use the interactive search box to see what your code returns."
   ]
  },
  {
   "cell_type": "code",
   "execution_count": 11,
   "id": "4217bf42",
   "metadata": {},
   "outputs": [],
   "source": [
    "MyTrie = Trie()\n",
    "wordList = [\n",
    "    \"ant\", \"anthology\", \"antagonist\", \"antonym\", \n",
    "    \"fun\", \"function\", \"factory\", \n",
    "    \"trie\", \"trigger\", \"trigonometry\", \"tripod\"\n",
    "]\n",
    "for word in wordList:\n",
    "    MyTrie.add(word)"
   ]
  },
  {
   "cell_type": "code",
   "execution_count": 12,
   "id": "28805715",
   "metadata": {},
   "outputs": [
    {
     "data": {
      "application/vnd.jupyter.widget-view+json": {
       "model_id": "20ea690096294bbcaba979b53a09bff9",
       "version_major": 2,
       "version_minor": 0
      },
      "text/plain": [
       "interactive(children=(Text(value='', description='prefix'), Output()), _dom_classes=('widget-interact',))"
      ]
     },
     "metadata": {},
     "output_type": "display_data"
    }
   ],
   "source": [
    "from ipywidgets import widgets\n",
    "from IPython.display import display\n",
    "from ipywidgets import interact\n",
    "def f(prefix):\n",
    "    if prefix != '':\n",
    "        prefixNode = MyTrie.find_prefix(prefix)\n",
    "        if prefixNode:\n",
    "            print('\\n'.join(prefixNode.suffixes()))\n",
    "        else:\n",
    "            print(prefix + \" not found\")\n",
    "    else:\n",
    "        print('')\n",
    "interact(f,prefix='');"
   ]
  }
 ],
 "metadata": {
  "kernelspec": {
   "display_name": "Python 3 (ipykernel)",
   "language": "python",
   "name": "python3"
  },
  "language_info": {
   "codemirror_mode": {
    "name": "ipython",
    "version": 3
   },
   "file_extension": ".py",
   "mimetype": "text/x-python",
   "name": "python",
   "nbconvert_exporter": "python",
   "pygments_lexer": "ipython3",
   "version": "3.8.12"
  }
 },
 "nbformat": 4,
 "nbformat_minor": 5
}
