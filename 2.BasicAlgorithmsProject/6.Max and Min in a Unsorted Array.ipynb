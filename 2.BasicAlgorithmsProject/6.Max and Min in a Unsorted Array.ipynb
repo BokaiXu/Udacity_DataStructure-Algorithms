{
 "cells": [
  {
   "cell_type": "markdown",
   "id": "c2d93f44",
   "metadata": {},
   "source": [
    "# 6.Max and Min in a Unsorted Array    \n",
    "In this problem, we will look for smallest and largest integer from a list of unsorted integers. The code should run in O(n) time. Do not use Python's inbuilt functions to find min and max.    "
   ]
  },
  {
   "cell_type": "markdown",
   "id": "99496cd0",
   "metadata": {},
   "source": [
    "## Explanation    \n",
    "Since the needed time complexity is O(n), we need to traverse the array and store the max/min value.    "
   ]
  },
  {
   "cell_type": "code",
   "execution_count": 1,
   "id": "eac373a0",
   "metadata": {},
   "outputs": [],
   "source": [
    "def find_max_min(array):\n",
    "    if len(array)==0:\n",
    "        return None\n",
    "    if len(array)==1:\n",
    "        return(array[0],array[0])\n",
    "    max_index=0\n",
    "    min_index=0\n",
    "    for index, value in enumerate(array):\n",
    "        if value>array[max_index]:\n",
    "            max_index=index\n",
    "        if value<array[min_index]:\n",
    "            min_index=index\n",
    "    return (array[max_index],array[min_index])"
   ]
  },
  {
   "cell_type": "code",
   "execution_count": 2,
   "id": "e97e9c08",
   "metadata": {},
   "outputs": [
    {
     "data": {
      "text/plain": [
       "(45, -3)"
      ]
     },
     "execution_count": 2,
     "metadata": {},
     "output_type": "execute_result"
    }
   ],
   "source": [
    "# Test\n",
    "array=[10,5,0,-3,3,45,13,6]\n",
    "find_max_min(array)"
   ]
  }
 ],
 "metadata": {
  "kernelspec": {
   "display_name": "Python 3 (ipykernel)",
   "language": "python",
   "name": "python3"
  },
  "language_info": {
   "codemirror_mode": {
    "name": "ipython",
    "version": 3
   },
   "file_extension": ".py",
   "mimetype": "text/x-python",
   "name": "python",
   "nbconvert_exporter": "python",
   "pygments_lexer": "ipython3",
   "version": "3.8.8"
  }
 },
 "nbformat": 4,
 "nbformat_minor": 5
}
