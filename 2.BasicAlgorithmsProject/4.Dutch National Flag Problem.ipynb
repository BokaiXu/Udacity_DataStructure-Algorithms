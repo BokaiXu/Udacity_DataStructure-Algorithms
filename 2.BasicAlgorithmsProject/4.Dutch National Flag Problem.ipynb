{
 "cells": [
  {
   "cell_type": "markdown",
   "id": "f333b15e",
   "metadata": {},
   "source": [
    "# 4.Dutch National Flag Problem    \n",
    "Requirements:\n",
    "\n",
    "Given an input array consisting on only 0, 1, and 2, sort the array in a single traversal. You're not allowed to use any sorting function that Python provides."
   ]
  },
  {
   "cell_type": "markdown",
   "id": "59cc4861",
   "metadata": {},
   "source": [
    "## Explanation    \n",
    "If we can get the function to put the `0`s and `2`s in the correct positions, this will aotumatically cause the `1`s to be in the correct positions as well.    \n",
    "We need two pointers to keep track of the position of the last 0 and the first 2. Then traverse the array, if the value is 0 or 2, we exchange the value with the last 0 or first 2. Then move the pointers. If the value is 1, we do nothing and keep traversing the array. Since we only do one traverse, the time complexity is O(n).    "
   ]
  },
  {
   "cell_type": "code",
   "execution_count": 1,
   "id": "15ae4e13",
   "metadata": {},
   "outputs": [],
   "source": [
    "def sort_012(input_list):\n",
    "    f_index=0\n",
    "    e_index=len(input_list)-1\n",
    "    c_index=0\n",
    "    while c_index<=e_index:\n",
    "        if input_list[c_index]==0:\n",
    "            input_list[c_index],input_list[f_index]=input_list[f_index],input_list[c_index]\n",
    "            f_index+=1\n",
    "            c_index+=1\n",
    "        elif input_list[c_index]==2:\n",
    "            input_list[c_index],input_list[e_index]=input_list[e_index],input_list[c_index]\n",
    "            e_index-=1\n",
    "        else:\n",
    "            c_index+=1"
   ]
  },
  {
   "cell_type": "code",
   "execution_count": 3,
   "id": "1bd52051",
   "metadata": {},
   "outputs": [
    {
     "data": {
      "text/plain": [
       "[0, 0, 0, 1, 1, 1, 2, 2, 2, 2, 2]"
      ]
     },
     "execution_count": 3,
     "metadata": {},
     "output_type": "execute_result"
    }
   ],
   "source": [
    "# Test\n",
    "test_case = [0, 0, 2, 2, 2, 1, 1, 1, 2, 0, 2]\n",
    "sort_012(test_case)\n",
    "test_case"
   ]
  },
  {
   "cell_type": "code",
   "execution_count": 4,
   "id": "aac957c5",
   "metadata": {},
   "outputs": [
    {
     "data": {
      "text/plain": [
       "[0, 0, 0, 0, 0, 0, 0, 0, 0, 0, 0, 1, 1, 1, 1, 1, 1, 2, 2, 2, 2, 2, 2, 2, 2, 2]"
      ]
     },
     "execution_count": 4,
     "metadata": {},
     "output_type": "execute_result"
    }
   ],
   "source": [
    "# Test\n",
    "test_case = [2, 1, 2, 0, 0, 2, 1, 0, 1, 0, 0, 2, 2, 2, 1, 2, 0, 0, 0, 2, 1, 0, 2, 0, 0, 1]\n",
    "sort_012(test_case)\n",
    "test_case"
   ]
  },
  {
   "cell_type": "code",
   "execution_count": 5,
   "id": "bfff1e70",
   "metadata": {},
   "outputs": [
    {
     "data": {
      "text/plain": [
       "[0, 0, 0, 0, 0, 0, 1, 1, 1, 1, 1, 1, 2, 2, 2, 2, 2, 2, 2]"
      ]
     },
     "execution_count": 5,
     "metadata": {},
     "output_type": "execute_result"
    }
   ],
   "source": [
    "# Test\n",
    "test_case = [2, 2, 0, 0, 2, 1, 0, 2, 2, 1, 1, 1, 0, 1, 2, 0, 2, 0, 1]\n",
    "sort_012(test_case)\n",
    "test_case"
   ]
  }
 ],
 "metadata": {
  "kernelspec": {
   "display_name": "Python 3 (ipykernel)",
   "language": "python",
   "name": "python3"
  },
  "language_info": {
   "codemirror_mode": {
    "name": "ipython",
    "version": 3
   },
   "file_extension": ".py",
   "mimetype": "text/x-python",
   "name": "python",
   "nbconvert_exporter": "python",
   "pygments_lexer": "ipython3",
   "version": "3.8.8"
  }
 },
 "nbformat": 4,
 "nbformat_minor": 5
}
