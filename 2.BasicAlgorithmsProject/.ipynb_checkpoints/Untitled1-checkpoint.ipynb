{
 "cells": [
  {
   "cell_type": "markdown",
   "id": "2e1c60de",
   "metadata": {},
   "source": [
    "# 2.Search in a Rotated Sorted Array\n",
    "Given a sorted array which is rotated at some random pivot point find a target value.\n",
    "\n",
    "Example: [0,1,2,4,5,6,7] might become [4,5,6,7,0,1,2]\n",
    "\n",
    "Given a target value to search, if found in the array return its index, otherwise return -1.\n",
    "One can assume there are no duplicates in the array and your algorithm's runtime complexity must be in the order of O(log n).\n",
    "Example:\n",
    "\n",
    "Input: nums = [4,5,6,7,0,1,2], target = 0, Output: 4"
   ]
  },
  {
   "cell_type": "markdown",
   "id": "73c539de",
   "metadata": {},
   "source": [
    "## Explanation    \n",
    "The array contains two sorted array. If I can find the pivot index, I can search value in the two sorted arrays with O(log(n)) time complexity.    \n",
    "For the function that look for the pivot index, I can use binary search. Every time compare the value of middle index and the start index. The pivot value is either in the same side of the first value or in the opposite side of the first value.    This function is also O(log(n)) time complexity.    "
   ]
  },
  {
   "cell_type": "code",
   "execution_count": 184,
   "id": "2485d66d",
   "metadata": {},
   "outputs": [],
   "source": [
    "def find_pivot_index(arr,left,right):\n",
    "    \"\"\"\n",
    "    This function finds the pivot index of the rotated sorted array.\n",
    "    input: arr-rotated sorted arry, left-first index of the array, right-last index of the array.\n",
    "    output: The index of the pivot.\n",
    "    \"\"\"\n",
    "    if left>=right:\n",
    "        return -1\n",
    "    middle=(left+right)//2\n",
    "    if arr[middle]>arr[middle+1]:\n",
    "    # arr[middle] is the maximum\n",
    "        return middle+1\n",
    "    elif arr[middle]<arr[middle-1]:\n",
    "    # arr[middle] is the minimum\n",
    "        return middle\n",
    "    elif arr[left]>arr[middle]:\n",
    "    # pivot is in the left part\n",
    "        return find_pivot_index(arr,left,middle-1)\n",
    "    else:\n",
    "    # pivot is in the right part\n",
    "        return find_pivot_index(arr,middle+1,right)"
   ]
  },
  {
   "cell_type": "code",
   "execution_count": 185,
   "id": "817086d0",
   "metadata": {},
   "outputs": [],
   "source": [
    "def find_value_recursion(arr,left,right,target):\n",
    "    \"\"\"\n",
    "    This function finds the target value in the sorted array.\n",
    "    input: arr-sorted array, left-first index of the array, right-last index of the array, target-the target value.\n",
    "    output: The index of the target value, if not exists return -1.\n",
    "    \"\"\"\n",
    "    middle=(left+right)//2\n",
    "    if arr[middle]==target:\n",
    "        return middle\n",
    "    if left>=right:\n",
    "        return -1\n",
    "    elif arr[middle]>target:\n",
    "    # target is in the left part of the sorted array\n",
    "        return find_value_recursion(arr,left,middle-1,target)\n",
    "    else:\n",
    "    # target is in the right part of the sorted array\n",
    "        return find_value_recursion(arr,middle+1,right,target)"
   ]
  },
  {
   "cell_type": "code",
   "execution_count": 186,
   "id": "67545154",
   "metadata": {},
   "outputs": [],
   "source": [
    "def find_value(arr,target):\n",
    "    \"\"\"\n",
    "    This function looks for whether the target is in the array returns the index or -1.\n",
    "    input: array-rotated sorted array, target-the target value needed to be found.\n",
    "    output: The index of the target if found or -1 if target not exists in the array.\n",
    "    \"\"\"\n",
    "    left=0\n",
    "    right=len(arr)-1\n",
    "    # find the pivot index\n",
    "    pivot_index=find_pivot_index(arr,left,right)\n",
    "    # look for target from left sorted array\n",
    "    left=find_value_recursion(arr,left,pivot_index-1,target)\n",
    "    # look for target from right sorted arry\n",
    "    right=find_value_recursion(arr,pivot_index,right,target)\n",
    "    return max(left,right)"
   ]
  },
  {
   "cell_type": "code",
   "execution_count": 187,
   "id": "cfc70c3c",
   "metadata": {},
   "outputs": [
    {
     "data": {
      "text/plain": [
       "-1"
      ]
     },
     "execution_count": 187,
     "metadata": {},
     "output_type": "execute_result"
    }
   ],
   "source": [
    "# Test\n",
    "arr=[6,7,8,9,3,4,5]\n",
    "find_value(arr,10)"
   ]
  },
  {
   "cell_type": "code",
   "execution_count": 188,
   "id": "959ea903",
   "metadata": {},
   "outputs": [
    {
     "data": {
      "text/plain": [
       "0"
      ]
     },
     "execution_count": 188,
     "metadata": {},
     "output_type": "execute_result"
    }
   ],
   "source": [
    "# Test\n",
    "arr=[6,7,8,9,3,4,5]\n",
    "find_value(arr,6)"
   ]
  },
  {
   "cell_type": "code",
   "execution_count": 189,
   "id": "893807df",
   "metadata": {},
   "outputs": [
    {
     "data": {
      "text/plain": [
       "6"
      ]
     },
     "execution_count": 189,
     "metadata": {},
     "output_type": "execute_result"
    }
   ],
   "source": [
    "# Test\n",
    "arr=[6,7,8,9,3,4,5]\n",
    "find_value(arr,5)"
   ]
  },
  {
   "cell_type": "code",
   "execution_count": 190,
   "id": "71520bc0",
   "metadata": {},
   "outputs": [
    {
     "data": {
      "text/plain": [
       "3"
      ]
     },
     "execution_count": 190,
     "metadata": {},
     "output_type": "execute_result"
    }
   ],
   "source": [
    "# Test\n",
    "arr=[6,7,8,9,3,4,5]\n",
    "find_value(arr,9)"
   ]
  },
  {
   "cell_type": "code",
   "execution_count": 191,
   "id": "139f1349",
   "metadata": {},
   "outputs": [
    {
     "data": {
      "text/plain": [
       "4"
      ]
     },
     "execution_count": 191,
     "metadata": {},
     "output_type": "execute_result"
    }
   ],
   "source": [
    "# Test\n",
    "arr=[6,7,8,9,3,4,5]\n",
    "find_value(arr,3)"
   ]
  },
  {
   "cell_type": "code",
   "execution_count": 192,
   "id": "83495a5f",
   "metadata": {},
   "outputs": [
    {
     "data": {
      "text/plain": [
       "1"
      ]
     },
     "execution_count": 192,
     "metadata": {},
     "output_type": "execute_result"
    }
   ],
   "source": [
    "# Test\n",
    "arr=[6,7,8,9,3,4,5]\n",
    "find_value(arr,7)"
   ]
  }
 ],
 "metadata": {
  "kernelspec": {
   "display_name": "Python 3 (ipykernel)",
   "language": "python",
   "name": "python3"
  },
  "language_info": {
   "codemirror_mode": {
    "name": "ipython",
    "version": 3
   },
   "file_extension": ".py",
   "mimetype": "text/x-python",
   "name": "python",
   "nbconvert_exporter": "python",
   "pygments_lexer": "ipython3",
   "version": "3.8.8"
  }
 },
 "nbformat": 4,
 "nbformat_minor": 5
}
