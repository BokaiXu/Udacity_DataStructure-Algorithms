{
 "cells": [
  {
   "cell_type": "markdown",
   "id": "215d25a9",
   "metadata": {},
   "source": [
    "# 5.Autocomplete with Tries"
   ]
  },
  {
   "cell_type": "markdown",
   "id": "63248b7f",
   "metadata": {},
   "source": [
    "Before we start let us reiterate the key components of a Trie or Prefix Tree. A trie is a tree-like data structure that stores a dynamic set of strings. Tries are commonly used to facilitate operations like predictive text or autocomplete features on mobile phones or web search.\n",
    "\n",
    "Before we move into the autocomplete function we need to create a working trie for storing strings. We will create two classes:\n",
    "\n",
    "A Trie class that contains the root node (empty string)\n",
    "A TrieNode class that exposes the general functionality of the Trie, like inserting a word or finding the node which represents a prefix.\n",
    "Give it a try by implementing the TrieNode and Trie classes below!"
   ]
  },
  {
   "cell_type": "code",
   "execution_count": 1,
   "id": "15965f89",
   "metadata": {},
   "outputs": [],
   "source": [
    "class TrieNode(object):\n",
    "    def __init__(self):\n",
    "        self.is_word = False\n",
    "        self.children = {}\n",
    "        \n",
    "    def insert(self,char):\n",
    "        self.children[char]=TrieNode()\n",
    "\n",
    "class Trie(object):\n",
    "    def __init__(self):\n",
    "        self.root = TrieNode()\n",
    "\n",
    "    def add(self, word):\n",
    "        \"\"\"\n",
    "        Add `word` to trie\n",
    "        \"\"\"\n",
    "        current_node = self.root\n",
    "\n",
    "        for char in word:\n",
    "            if char not in current_node.children:\n",
    "                current_node.insert(char)\n",
    "            current_node = current_node.children[char]\n",
    "\n",
    "        current_node.is_word = True\n",
    "\n",
    "    def exists(self, word):\n",
    "        \"\"\"\n",
    "        Check if word exists in trie\n",
    "        \"\"\"\n",
    "        current_node = self.root\n",
    "\n",
    "        for char in word:\n",
    "            if char not in current_node.children:\n",
    "                return False\n",
    "            current_node = current_node.children[char]\n",
    "\n",
    "        return current_node.is_word"
   ]
  },
  {
   "cell_type": "code",
   "execution_count": 2,
   "id": "cc5e9680",
   "metadata": {},
   "outputs": [
    {
     "name": "stdout",
     "output_type": "stream",
     "text": [
      "\"bear\" is a word.\n",
      "\"goo\" is a word.\n",
      "\"good\" is a word.\n",
      "\"goos\" is not a word.\n"
     ]
    }
   ],
   "source": [
    "word_list = ['apple', 'bear', 'goo', 'good', 'goodbye', 'goods', 'goodwill', 'gooses'  ,'zebra']\n",
    "word_trie = Trie()\n",
    "\n",
    "# Add words\n",
    "for word in word_list:\n",
    "    word_trie.add(word)\n",
    "\n",
    "# Test words\n",
    "test_words = ['bear', 'goo', 'good', 'goos']\n",
    "for word in test_words:\n",
    "    if word_trie.exists(word):\n",
    "        print('\"{}\" is a word.'.format(word))\n",
    "    else:\n",
    "        print('\"{}\" is not a word.'.format(word))"
   ]
  },
  {
   "cell_type": "markdown",
   "id": "702bd6e8",
   "metadata": {},
   "source": [
    "# Finding Suffixes    \n",
    "Now that we have a functioning Trie, we need to add the ability to list suffixes to implement our autocomplete feature. To do that, we need to implement a new function on the TrieNode object that will return all complete word suffixes that exist below it in the trie. For example, if our Trie contains the words [\"fun\", \"function\", \"factory\"] and we ask for suffixes from the f node, we would expect to receive [\"un\", \"unction\", \"actory\"] back from node.suffixes().\n",
    "\n",
    "Using the code you wrote for the TrieNode above, try to add the suffixes function below. (Hint: recurse down the trie, collecting suffixes as you go.)"
   ]
  },
  {
   "cell_type": "code",
   "execution_count": 43,
   "id": "2840fa33",
   "metadata": {},
   "outputs": [],
   "source": [
    "class TrieNode(object):\n",
    "    def __init__(self):\n",
    "        self.is_word = False\n",
    "        self.children = {}\n",
    "        \n",
    "    def insert(self,char):\n",
    "        self.children[char]=TrieNode()\n",
    "    \n",
    "    def suffixes(self, result=''):\n",
    "        results=[]\n",
    "        for char, node in self.children.items():\n",
    "            if node.is_word:\n",
    "                results.append(result+char)\n",
    "            if node.children:\n",
    "                results+=node.suffixes(result+char)\n",
    "        return results\n",
    "\n",
    "class Trie(object):\n",
    "    def __init__(self):\n",
    "        self.root = TrieNode()\n",
    "\n",
    "    def add(self, word):\n",
    "        \"\"\"\n",
    "        Add `word` to trie\n",
    "        \"\"\"\n",
    "        current_node = self.root\n",
    "\n",
    "        for char in word:\n",
    "            if char not in current_node.children:\n",
    "                current_node.children[char] = TrieNode()\n",
    "            current_node = current_node.children[char]\n",
    "\n",
    "        current_node.is_word = True\n",
    "\n",
    "    def exists(self, word):\n",
    "        \"\"\"\n",
    "        Check if word exists in trie\n",
    "        \"\"\"\n",
    "        current_node = self.root\n",
    "\n",
    "        for char in word:\n",
    "            if char not in current_node.children:\n",
    "                return False\n",
    "            current_node = current_node.children[char]\n",
    "\n",
    "        return current_node.is_word\n",
    "    \n",
    "    def find_prefix(self,prefix):\n",
    "        current_node=self.root\n",
    "        \n",
    "        for char in prefix:\n",
    "            if char not in current_node.children:\n",
    "                return False\n",
    "            current_node=current_node.children[char]\n",
    "        \n",
    "        return current_node"
   ]
  },
  {
   "cell_type": "code",
   "execution_count": 44,
   "id": "e66a991e",
   "metadata": {},
   "outputs": [],
   "source": [
    "word_list = ['function', 'fun', 'factory']\n",
    "word_trie = Trie()\n",
    "\n",
    "# Add words\n",
    "for word in word_list:\n",
    "    word_trie.add(word)"
   ]
  },
  {
   "cell_type": "code",
   "execution_count": 45,
   "id": "53479a2a",
   "metadata": {},
   "outputs": [],
   "source": [
    "f_node=word_trie.find_prefix('f')"
   ]
  },
  {
   "cell_type": "code",
   "execution_count": 46,
   "id": "d195d321",
   "metadata": {},
   "outputs": [
    {
     "data": {
      "text/plain": [
       "{'u': <__main__.TrieNode at 0x170f577d100>,\n",
       " 'a': <__main__.TrieNode at 0x170f575aa00>}"
      ]
     },
     "execution_count": 46,
     "metadata": {},
     "output_type": "execute_result"
    }
   ],
   "source": [
    "f_node.children"
   ]
  },
  {
   "cell_type": "code",
   "execution_count": 47,
   "id": "2a33cd48",
   "metadata": {},
   "outputs": [
    {
     "data": {
      "text/plain": [
       "['un', 'unction', 'actory']"
      ]
     },
     "execution_count": 47,
     "metadata": {},
     "output_type": "execute_result"
    }
   ],
   "source": [
    "f_node.suffixes()"
   ]
  },
  {
   "cell_type": "code",
   "execution_count": 48,
   "id": "7299a234",
   "metadata": {},
   "outputs": [
    {
     "data": {
      "application/vnd.jupyter.widget-view+json": {
       "model_id": "43e689e07fce4c589e77ecf8c1915ac6",
       "version_major": 2,
       "version_minor": 0
      },
      "text/plain": [
       "interactive(children=(Text(value='', description='prefix'), Output()), _dom_classes=('widget-interact',))"
      ]
     },
     "metadata": {},
     "output_type": "display_data"
    },
    {
     "data": {
      "application/vnd.jupyter.widget-view+json": {
       "model_id": "1045bcc60dd44663977ba46e99de35ac",
       "version_major": 2,
       "version_minor": 0
      },
      "text/plain": [
       "interactive(children=(Text(value='tr', description='prefix'), Output()), _dom_classes=('widget-interact',))"
      ]
     },
     "metadata": {},
     "output_type": "display_data"
    },
    {
     "data": {
      "application/vnd.jupyter.widget-view+json": {
       "model_id": "0411bfaad2184c60b3eff6abdf2ced20",
       "version_major": 2,
       "version_minor": 0
      },
      "text/plain": [
       "interactive(children=(Text(value='f', description='prefix'), Output()), _dom_classes=('widget-interact',))"
      ]
     },
     "metadata": {},
     "output_type": "display_data"
    },
    {
     "data": {
      "application/vnd.jupyter.widget-view+json": {
       "model_id": "1ff70d99cfaa47a08916cc3edf718f4c",
       "version_major": 2,
       "version_minor": 0
      },
      "text/plain": [
       "interactive(children=(Text(value='ant', description='prefix'), Output()), _dom_classes=('widget-interact',))"
      ]
     },
     "metadata": {},
     "output_type": "display_data"
    }
   ],
   "source": [
    "from ipywidgets import widgets\n",
    "from IPython.display import display\n",
    "from ipywidgets import interact\n",
    "def f(prefix):\n",
    "    \n",
    "    if prefix != '':\n",
    "        prefixNode = MyTrie.find(prefix)\n",
    "        if prefixNode:\n",
    "            print('\\n'.join(prefixNode.suffixes()))\n",
    "        else:\n",
    "            print(prefix + \" not found\")\n",
    "    else:\n",
    "        print('')\n",
    "        \n",
    "        \n",
    "interact(f,prefix='');\n",
    "results=[]\n",
    "interact(f,prefix='tr');\n",
    "results=[]\n",
    "interact(f,prefix='f');\n",
    "results=[]\n",
    "interact(f,prefix='ant');"
   ]
  }
 ],
 "metadata": {
  "kernelspec": {
   "display_name": "Python 3 (ipykernel)",
   "language": "python",
   "name": "python3"
  },
  "language_info": {
   "codemirror_mode": {
    "name": "ipython",
    "version": 3
   },
   "file_extension": ".py",
   "mimetype": "text/x-python",
   "name": "python",
   "nbconvert_exporter": "python",
   "pygments_lexer": "ipython3",
   "version": "3.8.8"
  }
 },
 "nbformat": 4,
 "nbformat_minor": 5
}
