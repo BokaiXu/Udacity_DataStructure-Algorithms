{
 "cells": [
  {
   "cell_type": "markdown",
   "id": "b0cca7bd",
   "metadata": {},
   "source": [
    "# 3.Rearrange Array Digits    \n",
    "Rearrange Array Elements so as to form two integers such that their sum is a maximum and return these two numbers. One can assume that all array elements are in the range [0, 9]. The number of digits in both the numbers cannot differ by more than 1. One can not use any sorting function that Python provides and the expected time complexity must be O(nlog(n)).\n",
    "\n",
    "Example: [1, 2, 3, 4, 5]\n",
    "\n",
    "One expected answer would be [531, 42]. Another expected answer can be [542, 31]. In scenarios such as these when there are more than one possible answers, return any one."
   ]
  },
  {
   "cell_type": "markdown",
   "id": "3337d242",
   "metadata": {},
   "source": [
    "## Explanation    \n",
    "If we have a sorted array, we just need to loop the array and put the value in the array to two new array seperately. The time compleixity of the loop function is O(n). Since the needed time complexity is O(nlog(n)), we need to use merge sort rather than bubble sort to sort the array.    "
   ]
  },
  {
   "cell_type": "code",
   "execution_count": 9,
   "id": "d3419924",
   "metadata": {},
   "outputs": [],
   "source": [
    "def merge_sort(arr):\n",
    "    \"\"\"\n",
    "    This function sort the array.\n",
    "    \"\"\"\n",
    "    if len(arr)<=1:\n",
    "        return arr\n",
    "    left=0\n",
    "    right=len(arr)\n",
    "    middle=(left+right)//2\n",
    "    left_array=merge_sort(arr[left:middle])\n",
    "    right_array=merge_sort(arr[middle:right])\n",
    "    return merge(left_array,right_array)\n",
    "\n",
    "def merge(left_array,right_array):\n",
    "    \"\"\"\n",
    "    This function merge and sort two sorted array together.\n",
    "    \"\"\"\n",
    "    result=[]\n",
    "    left_index=0\n",
    "    right_index=0\n",
    "    while left_index<len(left_array) and right_index<len(right_array):\n",
    "        if left_array[left_index]>right_array[right_index]:\n",
    "            result.append(left_array[left_index])\n",
    "            left_index+=1\n",
    "        else:\n",
    "            result.append(right_array[right_index])\n",
    "            right_index+=1\n",
    "    if left_index<len(left_array):\n",
    "        result+=left_array[left_index:]\n",
    "    if right_index<len(right_array):\n",
    "        result+=right_array[right_index:]\n",
    "    return result"
   ]
  },
  {
   "cell_type": "code",
   "execution_count": 14,
   "id": "441be36c",
   "metadata": {},
   "outputs": [],
   "source": [
    "def rearrange(arr):\n",
    "    \"\"\"\n",
    "    This function call the merge_sort() function and return the result of this question.\n",
    "    \"\"\"\n",
    "    result=[]\n",
    "    str1=''\n",
    "    str2=''\n",
    "    sorted_array=merge_sort(arr)\n",
    "    for index, value in enumerate(sorted_array):\n",
    "        if index%2==0:\n",
    "            str1+=str(value)\n",
    "        else:\n",
    "            str2+=str(value)\n",
    "    result.append(int(str1))\n",
    "    result.append(int(str2))\n",
    "    return result"
   ]
  },
  {
   "cell_type": "code",
   "execution_count": 15,
   "id": "56b40998",
   "metadata": {},
   "outputs": [
    {
     "data": {
      "text/plain": [
       "[531, 42]"
      ]
     },
     "execution_count": 15,
     "metadata": {},
     "output_type": "execute_result"
    }
   ],
   "source": [
    "# Test\n",
    "rearrange([1,3,4,2,5])"
   ]
  }
 ],
 "metadata": {
  "kernelspec": {
   "display_name": "Python 3 (ipykernel)",
   "language": "python",
   "name": "python3"
  },
  "language_info": {
   "codemirror_mode": {
    "name": "ipython",
    "version": 3
   },
   "file_extension": ".py",
   "mimetype": "text/x-python",
   "name": "python",
   "nbconvert_exporter": "python",
   "pygments_lexer": "ipython3",
   "version": "3.8.8"
  }
 },
 "nbformat": 4,
 "nbformat_minor": 5
}
