{
 "cells": [
  {
   "cell_type": "markdown",
   "id": "b7083b4c",
   "metadata": {},
   "source": [
    "# 1.Finding the Square Root of an Integer\n",
    "## Problem Description\n",
    "Find the square root of the integer without using any Python library. You have to find the floor value of the square root.\n",
    "For example if the given number is 16, then the answer would be 4.\n",
    "If the given number is 27, the answer would be 5 because sqrt(5) = 5.196 whose floor value is 5."
   ]
  },
  {
   "cell_type": "markdown",
   "id": "1ecf441d",
   "metadata": {},
   "source": [
    "## Explanation    \n",
    "We could use binary search to find the value. Find the middle value between 1 and the number, then compare the value of middle times middle with the number. If the value of middle times middle is larger than the number, recursively run the find_root function to check the middle between 1 and the previous middle. If the value of the middle times middle is smaller than the number, recursively run the find_root function to check the middle between the previous middle and the number. If the value of the middle times middle is equal to the number, return the middle. Finally, if right value minus left value is equal to one, compare the value of middle times middle and number it self.  Since it is kind of a binary search, it will use O(log(n)) time complexity.    "
   ]
  },
  {
   "cell_type": "code",
   "execution_count": 1,
   "id": "ffa7bb35",
   "metadata": {},
   "outputs": [],
   "source": [
    "def find_root(num):\n",
    "    \"\"\"\n",
    "    This function find the square root of the number. The result is round to floor value.\n",
    "    input: number.\n",
    "    output: Square root of the number. Floor value.\n",
    "    \"\"\"\n",
    "    if num<0:\n",
    "        return 'Negative number input!'\n",
    "    if num<=1:\n",
    "        return num\n",
    "    left=1\n",
    "    right=num\n",
    "    middle=(left+right)//2\n",
    "    while left+1<right:\n",
    "        if middle*middle>num:\n",
    "            right=middle\n",
    "        elif middle*middle<num:\n",
    "            left=middle\n",
    "        else:\n",
    "            return middle\n",
    "        middle=(left+right)//2\n",
    "    if middle*middle<num:\n",
    "        return middle\n",
    "    else:\n",
    "        return middle-1"
   ]
  },
  {
   "cell_type": "code",
   "execution_count": 2,
   "id": "89464d29",
   "metadata": {},
   "outputs": [
    {
     "name": "stdout",
     "output_type": "stream",
     "text": [
      "0-0\n",
      "1-1\n",
      "2-1\n",
      "3-1\n",
      "4-2\n",
      "5-2\n",
      "6-2\n",
      "7-2\n",
      "8-2\n",
      "9-3\n",
      "10-3\n",
      "11-3\n",
      "12-3\n",
      "13-3\n",
      "14-3\n",
      "15-3\n",
      "16-4\n",
      "17-4\n",
      "18-4\n",
      "19-4\n",
      "20-4\n",
      "21-4\n",
      "22-4\n",
      "23-4\n",
      "24-4\n",
      "25-5\n",
      "26-5\n",
      "27-5\n",
      "28-5\n",
      "29-5\n",
      "30-5\n",
      "31-5\n",
      "32-5\n",
      "33-5\n",
      "34-5\n",
      "35-5\n",
      "36-6\n",
      "37-6\n",
      "38-6\n",
      "39-6\n",
      "40-6\n",
      "41-6\n",
      "42-6\n",
      "43-6\n",
      "44-6\n",
      "45-6\n",
      "46-6\n",
      "47-6\n",
      "48-6\n",
      "49-7\n",
      "50-7\n",
      "51-7\n",
      "52-7\n",
      "53-7\n",
      "54-7\n",
      "55-7\n",
      "56-7\n",
      "57-7\n",
      "58-7\n",
      "59-7\n",
      "60-7\n",
      "61-7\n",
      "62-7\n",
      "63-7\n",
      "64-8\n",
      "65-8\n",
      "66-8\n",
      "67-8\n",
      "68-8\n",
      "69-8\n",
      "70-8\n",
      "71-8\n",
      "72-8\n",
      "73-8\n",
      "74-8\n",
      "75-8\n",
      "76-8\n",
      "77-8\n",
      "78-8\n",
      "79-8\n",
      "80-8\n",
      "81-9\n",
      "82-9\n",
      "83-9\n",
      "84-9\n",
      "85-9\n",
      "86-9\n",
      "87-9\n",
      "88-9\n",
      "89-9\n",
      "90-9\n",
      "91-9\n",
      "92-9\n",
      "93-9\n",
      "94-9\n",
      "95-9\n",
      "96-9\n",
      "97-9\n",
      "98-9\n",
      "99-9\n",
      "100-10\n"
     ]
    }
   ],
   "source": [
    "# Test\n",
    "for i in range (101):\n",
    "    num=find_root(i)\n",
    "    print(str(i)+'-'+str(num))"
   ]
  },
  {
   "cell_type": "code",
   "execution_count": 3,
   "id": "f0be0b8e",
   "metadata": {},
   "outputs": [
    {
     "data": {
      "text/plain": [
       "316"
      ]
     },
     "execution_count": 3,
     "metadata": {},
     "output_type": "execute_result"
    }
   ],
   "source": [
    "# Test\n",
    "find_root(100000)"
   ]
  }
 ],
 "metadata": {
  "kernelspec": {
   "display_name": "Python 3 (ipykernel)",
   "language": "python",
   "name": "python3"
  },
  "language_info": {
   "codemirror_mode": {
    "name": "ipython",
    "version": 3
   },
   "file_extension": ".py",
   "mimetype": "text/x-python",
   "name": "python",
   "nbconvert_exporter": "python",
   "pygments_lexer": "ipython3",
   "version": "3.8.8"
  }
 },
 "nbformat": 4,
 "nbformat_minor": 5
}
