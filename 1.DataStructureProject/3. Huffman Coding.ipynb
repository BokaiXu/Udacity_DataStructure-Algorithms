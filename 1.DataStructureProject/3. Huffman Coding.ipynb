{
 "cells": [
  {
   "cell_type": "markdown",
   "id": "5a5b3466",
   "metadata": {},
   "source": [
    "# 3.Huffman Coding\n",
    "A Huffman code is a type of optimal prefix code that is used for compressing data. The Huffman encoding and decoding schema is also lossless, meaning that when compressing the data to make it smaller, there is no loss of information.\n",
    "\n",
    "The Huffman algorithm works by assigning codes that correspond to the relative frequency of each character for each character. The Huffman code can be of any length and does not require a prefix; therefore, this binary code can be visualized on a binary tree with each encoded character being stored on leafs.\n",
    "\n",
    "There are many types of pseudocode for this algorithm. At the basic core, it is comprised of building a Huffman tree, encoding the data, and, lastly, decoding the data.\n",
    "\n",
    "Here is one type of pseudocode for this coding schema:\n",
    "\n",
    "Take a string and determine the relevant frequencies of the characters.\n",
    "Build and sort a list of tuples from lowest to highest frequencies.\n",
    "Build the Huffman Tree by assigning a binary code to each letter, using shorter codes for the more frequent letters. (This is the heart of the Huffman algorithm.)\n",
    "Trim the Huffman Tree (remove the frequencies from the previously built tree).\n",
    "Encode the text into its compressed form.\n",
    "Decode the text from its compressed form.\n",
    "You then will need to create encoding, decoding, and sizing schemas."
   ]
  },
  {
   "cell_type": "code",
   "execution_count": 13,
   "id": "8b4097e7",
   "metadata": {},
   "outputs": [],
   "source": [
    "class Tree_node:\n",
    "    def __init__(self,value,left=None,right=None,name=None):\n",
    "        self.value=value\n",
    "        self.left=left\n",
    "        self.right=right\n",
    "        self.name=name\n",
    "\n",
    "class Queue_node:\n",
    "    def __init__(self, value):\n",
    "        self.value=value\n",
    "        self.next=None"
   ]
  },
  {
   "cell_type": "code",
   "execution_count": 14,
   "id": "1861c4cf",
   "metadata": {},
   "outputs": [],
   "source": [
    "class Queue:\n",
    "    def __init__(self):\n",
    "        self.head=None\n",
    "        self.tail=None\n",
    "    \n",
    "    def add(self,node):\n",
    "        if self.head==None:\n",
    "            self.head=node\n",
    "            self.tail=node\n",
    "            return\n",
    "        elif self.head.value.value>=node.value.value:\n",
    "            node.next=self.head\n",
    "            self.head=node\n",
    "            return\n",
    "        elif self.tail.value.value<=node.value.value:\n",
    "            self.tail.next=node\n",
    "            self.tail=self.tail.next\n",
    "            return\n",
    "        else:\n",
    "            pointer=self.head\n",
    "            while pointer.next:\n",
    "                if node.value.value<pointer.next.value.value:\n",
    "                    temp=pointer.next\n",
    "                    pointer.next=node\n",
    "                    node.next=temp\n",
    "                    return\n",
    "                pointer=pointer.next\n",
    "    def pop(self):\n",
    "        if self.head==None:\n",
    "            return None\n",
    "        else:\n",
    "            node=self.head\n",
    "            self.head=self.head.next\n",
    "            return node"
   ]
  },
  {
   "cell_type": "code",
   "execution_count": 15,
   "id": "066daac2",
   "metadata": {},
   "outputs": [],
   "source": [
    "from collections import defaultdict\n",
    "\n",
    "def count_freq(string):\n",
    "    dict_=defaultdict(int)\n",
    "    for char in string:\n",
    "        dict_[char]+=1\n",
    "    return dict_"
   ]
  },
  {
   "cell_type": "code",
   "execution_count": 16,
   "id": "ebc326b2",
   "metadata": {},
   "outputs": [],
   "source": [
    "def tree_generator(data):\n",
    "    dict1=count_freq(data)    \n",
    "    queue=Queue()\n",
    "    for key,value in dict1.items():\n",
    "        queue.add(Queue_node(Tree_node(value=value,name=key)))\n",
    "    while queue.head:\n",
    "        left=queue.pop()\n",
    "        right=queue.pop()\n",
    "        if right==None:\n",
    "            tree_headnode=left.value\n",
    "            break\n",
    "        else:\n",
    "            combine_value=left.value.value+right.value.value\n",
    "            combine_tree_node=Tree_node(combine_value,left.value,right.value)\n",
    "            queue.add(Queue_node(combine_tree_node))\n",
    "    if len(dict1)==1:\n",
    "        tree_headnode.left=Tree_node(value=None,name=tree_headnode.name)\n",
    "        return tree_headnode\n",
    "    else:\n",
    "        return tree_headnode"
   ]
  },
  {
   "cell_type": "code",
   "execution_count": 17,
   "id": "894b8398",
   "metadata": {},
   "outputs": [],
   "source": [
    "def encoder(root):\n",
    "    def construct_paths(root,path=''):\n",
    "        if root:\n",
    "            if root.left==None and root.right==None:\n",
    "                paths[root.name]=path\n",
    "            else:\n",
    "                construct_paths(root.left,path+'0')\n",
    "                construct_paths(root.right,path+'1')\n",
    "    paths=dict()\n",
    "    construct_paths(root,'')\n",
    "    return paths"
   ]
  },
  {
   "cell_type": "code",
   "execution_count": 18,
   "id": "05213ac4",
   "metadata": {},
   "outputs": [],
   "source": [
    "def huffman_encoding(data):\n",
    "    encoded_data=''\n",
    "    root=tree_generator(data)\n",
    "    code_dict=encoder(root)\n",
    "    for i in data:\n",
    "        encoded_data+=code_dict[i]\n",
    "    return encoded_data, root"
   ]
  },
  {
   "cell_type": "code",
   "execution_count": 19,
   "id": "ae70588a",
   "metadata": {},
   "outputs": [],
   "source": [
    "import sys\n",
    "def huffman_decoding(data,tree):\n",
    "    decoded_data=''\n",
    "    node=tree\n",
    "    while len(data)>0:\n",
    "        word=data[0]\n",
    "        data=data[1:]\n",
    "        if word=='0':\n",
    "            node=node.left\n",
    "            if node.name!=None:\n",
    "                decoded_data+=node.name\n",
    "                node=tree\n",
    "        else:\n",
    "            node=node.right\n",
    "            if node.name!=None:\n",
    "                decoded_data+=node.name\n",
    "                node=tree\n",
    "    return decoded_data"
   ]
  },
  {
   "cell_type": "code",
   "execution_count": 20,
   "id": "0367e757",
   "metadata": {},
   "outputs": [
    {
     "name": "stdout",
     "output_type": "stream",
     "text": [
      "The size of the data is: 69\n",
      "\n",
      "The content of the data is: The bird is the word\n",
      "\n",
      "The size of the encoded data is: 36\n",
      "\n",
      "The content of the encoded data is: 0001001010111000001110010111101111011111110100010101111100111000100101\n",
      "\n",
      "The size of the decoded data is: 69\n",
      "\n",
      "The content of the encoded data is: The bird is the word\n",
      "\n"
     ]
    }
   ],
   "source": [
    "if __name__ == \"__main__\":\n",
    "    codes = {}\n",
    "\n",
    "    a_great_sentence = \"The bird is the word\"\n",
    "\n",
    "    print (\"The size of the data is: {}\\n\".format(sys.getsizeof(a_great_sentence)))\n",
    "    print (\"The content of the data is: {}\\n\".format(a_great_sentence))\n",
    "\n",
    "    encoded_data, tree = huffman_encoding(a_great_sentence)\n",
    "\n",
    "    print (\"The size of the encoded data is: {}\\n\".format(sys.getsizeof(int(encoded_data, base=2))))\n",
    "    print (\"The content of the encoded data is: {}\\n\".format(encoded_data))\n",
    "\n",
    "    decoded_data = huffman_decoding(encoded_data, tree)\n",
    "\n",
    "    print (\"The size of the decoded data is: {}\\n\".format(sys.getsizeof(decoded_data)))\n",
    "    print (\"The content of the encoded data is: {}\\n\".format(decoded_data))"
   ]
  },
  {
   "cell_type": "code",
   "execution_count": 21,
   "id": "0486c34d",
   "metadata": {},
   "outputs": [
    {
     "name": "stdout",
     "output_type": "stream",
     "text": [
      "Test2\n",
      "The size of the data is: 52\n",
      "\n",
      "The content of the data is: ABC\n",
      "\n",
      "The size of the encoded data is: 28\n",
      "\n",
      "The content of the encoded data is: 01110\n",
      "\n",
      "The size of the decoded data is: 52\n",
      "\n",
      "The content of the encoded data is: ABC\n",
      "\n",
      "Test2 done.\n",
      "---------------------------------------------------------------------------\n"
     ]
    }
   ],
   "source": [
    "print('Test2')\n",
    "\n",
    "a_great_sentence = \"ABC\"\n",
    "\n",
    "print (\"The size of the data is: {}\\n\".format(sys.getsizeof(a_great_sentence))) # Should return 69\n",
    "print (\"The content of the data is: {}\\n\".format(a_great_sentence)) # Should return A\n",
    "\n",
    "encoded_data, tree = huffman_encoding(a_great_sentence)\n",
    "\n",
    "print (\"The size of the encoded data is: {}\\n\".format(sys.getsizeof(int(encoded_data, base=2)))) # Should return 36\n",
    "print (\"The content of the encoded data is: {}\\n\".format(encoded_data)) # Should return 0001001010111000001110010111101111011111110100010101111100111000100101\n",
    "\n",
    "decoded_data = huffman_decoding(encoded_data, tree)\n",
    "\n",
    "print (\"The size of the decoded data is: {}\\n\".format(sys.getsizeof(decoded_data))) # Should return 69\n",
    "print (\"The content of the encoded data is: {}\\n\".format(decoded_data)) # Should return A\n",
    "print('Test2 done.')\n",
    "print('---------------------------------------------------------------------------')\n"
   ]
  },
  {
   "cell_type": "code",
   "execution_count": 24,
   "id": "0145f9ef",
   "metadata": {},
   "outputs": [
    {
     "name": "stdout",
     "output_type": "stream",
     "text": [
      "Test3\n",
      "The size of the data is: 50\n",
      "\n",
      "The content of the data is: A\n",
      "\n",
      "The size of the encoded data is: 24\n",
      "\n",
      "The content of the encoded data is: 0\n",
      "\n",
      "The size of the decoded data is: 50\n",
      "\n",
      "The content of the encoded data is: A\n",
      "\n",
      "Test3 done.\n",
      "---------------------------------------------------------------------------\n"
     ]
    }
   ],
   "source": [
    "#Test3\n",
    "print('Test3')\n",
    "\n",
    "a_great_sentence = \"A\"\n",
    "\n",
    "print (\"The size of the data is: {}\\n\".format(sys.getsizeof(a_great_sentence))) # Should return 52\n",
    "print (\"The content of the data is: {}\\n\".format(a_great_sentence)) # Should return ABC\n",
    "\n",
    "encoded_data, tree = huffman_encoding(a_great_sentence)\n",
    "\n",
    "print (\"The size of the encoded data is: {}\\n\".format(sys.getsizeof(int(encoded_data, base=2)))) # Should return 28\n",
    "print (\"The content of the encoded data is: {}\\n\".format(encoded_data)) # Should return 01110\n",
    "\n",
    "decoded_data = huffman_decoding(encoded_data, tree)\n",
    "\n",
    "print (\"The size of the decoded data is: {}\\n\".format(sys.getsizeof(decoded_data))) # Should return 52\n",
    "print (\"The content of the encoded data is: {}\\n\".format(decoded_data)) # Should return ABC\n",
    "print('Test3 done.')\n",
    "print('---------------------------------------------------------------------------')"
   ]
  },
  {
   "cell_type": "code",
   "execution_count": null,
   "id": "d85d297d",
   "metadata": {},
   "outputs": [],
   "source": []
  }
 ],
 "metadata": {
  "kernelspec": {
   "display_name": "Python 3 (ipykernel)",
   "language": "python",
   "name": "python3"
  },
  "language_info": {
   "codemirror_mode": {
    "name": "ipython",
    "version": 3
   },
   "file_extension": ".py",
   "mimetype": "text/x-python",
   "name": "python",
   "nbconvert_exporter": "python",
   "pygments_lexer": "ipython3",
   "version": "3.8.12"
  }
 },
 "nbformat": 4,
 "nbformat_minor": 5
}
