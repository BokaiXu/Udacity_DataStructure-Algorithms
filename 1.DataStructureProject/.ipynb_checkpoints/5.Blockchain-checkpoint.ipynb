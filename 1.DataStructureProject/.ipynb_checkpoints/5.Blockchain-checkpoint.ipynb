{
 "cells": [
  {
   "cell_type": "markdown",
   "id": "cf453dcf",
   "metadata": {},
   "source": []
  },
  {
   "cell_type": "code",
   "execution_count": 120,
   "id": "bc1c9505",
   "metadata": {},
   "outputs": [],
   "source": [
    "import time\n",
    "import hashlib\n",
    "\n",
    "class Block:\n",
    "    # This is the element for block chain.\n",
    "    def __init__(self,data,timestamp=None, prev_hash=0):\n",
    "        self.data=data\n",
    "        if timestamp==None:\n",
    "            self.timestamp=self.time_GMT()\n",
    "        else:\n",
    "            self.timestamp=timestamp\n",
    "        self.SHA=self.SHA_generator(self.data)\n",
    "        self.prev_hash=prev_hash\n",
    "        self.next=None\n",
    "        \n",
    "    def time_GMT(self):\n",
    "        # Record time in GMT.\n",
    "        gmt = time.gmtime(time.time())\n",
    "        timestamp=str(gmt.tm_hour)+':'+str(gmt.tm_min)+' '+str(gmt.tm_mon)+'/'+str(gmt.tm_mday)+'/'+str(gmt.tm_year)\n",
    "        return timestamp\n",
    "    \n",
    "    def SHA_generator(self,data):\n",
    "        # Generator a SHA according to data in the block.\n",
    "        sha = hashlib.sha256()\n",
    "        hash_str = data.encode('utf-8')\n",
    "        sha.update(hash_str)\n",
    "        return sha.hexdigest()"
   ]
  },
  {
   "cell_type": "code",
   "execution_count": 121,
   "id": "9be9d1b2",
   "metadata": {},
   "outputs": [],
   "source": [
    "class Blockchain:\n",
    "    # This is the blockchain data strucrue.\n",
    "    def __init__(self,data,timestamp=None,prev_hash=0):\n",
    "        self.num_elements=1\n",
    "        self.head=Block(data,timestamp,prev_hash)\n",
    "        self.tail=self.head\n",
    "    \n",
    "    def size(self):\n",
    "        # Return the size of the blockchain.\n",
    "        return self.num_elements\n",
    "    \n",
    "    def add(self,data,timestamp=None,prev_hash=0):\n",
    "        # Function to add a block in the end of the chain.\n",
    "        if self.head==None:\n",
    "            self.head=Block(data,timestamp,prev_hash)\n",
    "            self.tail=self.head\n",
    "            self.num_elements=1\n",
    "        else:\n",
    "            temp_hash=self.tail.SHA\n",
    "            self.tail.next=Block(data,timestamp,prev_hash)\n",
    "            self.tail=self.tail.next\n",
    "            self.num_elements+=1\n",
    "            self.tail.prev_hash=temp_hash\n",
    "    \n",
    "    def search(self,SHA):\n",
    "        # According to the SHA to find the related data.\n",
    "        if self.head==None:\n",
    "            return None\n",
    "        else:\n",
    "            node=self.head\n",
    "            while node.next:\n",
    "                if node.SHA==SHA:\n",
    "                    return node.data\n",
    "                node=node.next\n",
    "            return None\n",
    "    \n",
    "    def pop(self):\n",
    "        # Remove the latest block and return the SHA.\n",
    "        if self.head==None:\n",
    "            return None\n",
    "        elif self.head==self.tail:\n",
    "            result=self.head.SHA\n",
    "            self.head=None\n",
    "            self.tail=None\n",
    "            self.num_elements=0\n",
    "            return result  \n",
    "        else:\n",
    "            result=self.tail.SHA\n",
    "            node=self.head\n",
    "            while node.next:\n",
    "                if node.next==self.tail:\n",
    "                    break\n",
    "                node=node.next\n",
    "            self.tail=node\n",
    "            self.tail.next=None\n",
    "            self.num_elements-=1\n",
    "        return result\n",
    "    \n",
    "    def __repr__(self):\n",
    "        # Return all the SHAa in the blockchain.\n",
    "        if self.head==None:\n",
    "            return 'Empty block chain!'\n",
    "        node=self.head\n",
    "        SHA_result=''\n",
    "        while node:\n",
    "            result='Block SHA: {}'.format(node.SHA)\n",
    "            SHA_result+=result\n",
    "            SHA_result+='\\n'\n",
    "            node=node.next\n",
    "        return SHA_result"
   ]
  },
  {
   "cell_type": "code",
   "execution_count": 122,
   "id": "cd6073e3",
   "metadata": {},
   "outputs": [],
   "source": [
    "# Test\n",
    "blockchain_test=Blockchain('block1')\n",
    "blockchain_test.add('block2')\n",
    "blockchain_test.add('block3')\n",
    "blockchain_test.add('block4')\n",
    "blockchain_test.add('block5')"
   ]
  },
  {
   "cell_type": "code",
   "execution_count": 123,
   "id": "01fb43c5",
   "metadata": {},
   "outputs": [
    {
     "data": {
      "text/plain": [
       "5"
      ]
     },
     "execution_count": 123,
     "metadata": {},
     "output_type": "execute_result"
    }
   ],
   "source": [
    "# Test\n",
    "blockchain_test.size()"
   ]
  },
  {
   "cell_type": "code",
   "execution_count": 124,
   "id": "73a077ef",
   "metadata": {},
   "outputs": [
    {
     "name": "stdout",
     "output_type": "stream",
     "text": [
      "Block SHA: 9a59c5f8229aab55e9f855173ef94485aab8497eea0588f365c871d6d0561722\n",
      "Block SHA: 6d0b07ee773591f2a1b492d3ca65afdefc90e1cadfcc542a74048bb0ae7daa27\n",
      "Block SHA: 7e56ddaff5ff44d9e1732b1fd138a2057df045b163385068988554f72047e272\n",
      "Block SHA: 215008ba416eb06b8cfd53814660a43255e4ccc8703080af501ea0eaf7b7fdea\n",
      "Block SHA: 2e134675975ce520a5b2f59a4a13846a399d73c3152647a6c1757842f8864f0b\n",
      "\n"
     ]
    }
   ],
   "source": [
    "# Test\n",
    "print(blockchain_test)"
   ]
  },
  {
   "cell_type": "code",
   "execution_count": 125,
   "id": "d57eaaec",
   "metadata": {},
   "outputs": [
    {
     "data": {
      "text/plain": [
       "'2e134675975ce520a5b2f59a4a13846a399d73c3152647a6c1757842f8864f0b'"
      ]
     },
     "execution_count": 125,
     "metadata": {},
     "output_type": "execute_result"
    }
   ],
   "source": [
    "# Test\n",
    "blockchain_test.pop()"
   ]
  },
  {
   "cell_type": "code",
   "execution_count": 126,
   "id": "9a370fcd",
   "metadata": {},
   "outputs": [
    {
     "data": {
      "text/plain": [
       "4"
      ]
     },
     "execution_count": 126,
     "metadata": {},
     "output_type": "execute_result"
    }
   ],
   "source": [
    "# Test\n",
    "blockchain_test.size()"
   ]
  },
  {
   "cell_type": "code",
   "execution_count": 127,
   "id": "abada124",
   "metadata": {},
   "outputs": [
    {
     "data": {
      "text/plain": [
       "'block2'"
      ]
     },
     "execution_count": 127,
     "metadata": {},
     "output_type": "execute_result"
    }
   ],
   "source": [
    "# Test\n",
    "blockchain_test.search('6d0b07ee773591f2a1b492d3ca65afdefc90e1cadfcc542a74048bb0ae7daa27')"
   ]
  }
 ],
 "metadata": {
  "kernelspec": {
   "display_name": "Python 3 (ipykernel)",
   "language": "python",
   "name": "python3"
  },
  "language_info": {
   "codemirror_mode": {
    "name": "ipython",
    "version": 3
   },
   "file_extension": ".py",
   "mimetype": "text/x-python",
   "name": "python",
   "nbconvert_exporter": "python",
   "pygments_lexer": "ipython3",
   "version": "3.8.12"
  }
 },
 "nbformat": 4,
 "nbformat_minor": 5
}
