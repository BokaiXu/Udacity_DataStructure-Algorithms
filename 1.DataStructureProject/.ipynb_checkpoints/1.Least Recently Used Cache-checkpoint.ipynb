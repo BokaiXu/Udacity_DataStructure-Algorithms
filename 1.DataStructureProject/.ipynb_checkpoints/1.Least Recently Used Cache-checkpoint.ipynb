{
 "cells": [
  {
   "cell_type": "markdown",
   "id": "4d4bad43",
   "metadata": {},
   "source": [
    "# 1. Least Recently Used Cache    \n",
    "We have briefly discussed caching as part of a practice problem while studying hash maps.\n",
    "\n",
    "The lookup operation (i.e., get()) and put() / set() is supposed to be fast for a cache memory.\n",
    "\n",
    "While doing the get() operation, if the entry is found in the cache, it is known as a cache hit. If, however, the entry is not found, it is known as a cache miss.\n",
    "\n",
    "When designing a cache, we also place an upper bound on the size of the cache. If the cache is full and we want to add a new entry to the cache, we use some criteria to remove an element. After removing an element, we use the put() operation to insert the new element. The remove operation should also be fast.\n",
    "\n",
    "For our first problem, the goal will be to design a data structure known as a Least Recently Used (LRU) cache. An LRU cache is a type of cache in which we remove the least recently used entry when the cache memory reaches its limit. For the current problem, consider both get and set operations as an use operation.\n",
    "\n",
    "Your job is to use an appropriate data structure(s) to implement the cache.\n",
    "\n",
    "In case of a cache hit, your get() operation should return the appropriate value.\n",
    "In case of a cache miss, your get() should return -1.\n",
    "While putting an element in the cache, your put() / set() operation must insert the element. If the cache is full, you must write code that removes the least recently used entry first and then insert the element.\n",
    "All operations must take O(1) time."
   ]
  },
  {
   "cell_type": "markdown",
   "id": "fda93c70",
   "metadata": {},
   "source": [
    "#### My Answer:    \n",
    "To get O(1) in get and put/set, we need to use hash map.\n",
    "Since the oldest element needed to be deleted firstly, it reminds me a queue.    \n",
    "I will use a double linked list to save the values. A head pointer is used to delete the head.next (oldest element). The tail pointer is used to insert the tail.prev (latest element).    \n",
    "The only problem for using double linked list is how can I find the node of element I need in O(1) for the get methond. To solve this issue, I will use hash map to save the key, and save the related value as a Node(eg: dict[key]=Node(value)).    \n",
    "Using hash map, I can find the node I need in O(1). When I delete the oldest node, I also need to delete the related key from the hashmap. To get the key from related node, I also need to store the key in the node(eg: dict[key]=Node(key,value)).    "
   ]
  },
  {
   "cell_type": "code",
   "execution_count": 18,
   "id": "72186b77",
   "metadata": {},
   "outputs": [],
   "source": [
    "class Node:\n",
    "    # Node for the double linked list.\n",
    "    def __init__(self,key, value):\n",
    "        self.key=key\n",
    "        self.value=value\n",
    "        self.next=None\n",
    "        self.previous=None"
   ]
  },
  {
   "cell_type": "code",
   "execution_count": 19,
   "id": "57b4e1db",
   "metadata": {},
   "outputs": [],
   "source": [
    "class LRU_Cache(object):\n",
    "\n",
    "    def __init__(self, capacity=5):\n",
    "        # Initialize class variables\n",
    "        self.num_elements=0 # Keep track of the number of elements in the list.\n",
    "        self.capacity=capacity\n",
    "        self.dict_=dict()\n",
    "        self.head=Node(0,0)\n",
    "        self.tail=Node(0,0)\n",
    "        # Link the head and tail nodes.\n",
    "        self.head.next=self.tail\n",
    "        self.tail.prev=self.head\n",
    "\n",
    "    def get(self, key):\n",
    "        # Retrieve item from provided key. Return -1 if nonexistent.\n",
    "        if key in self.dict_.keys():\n",
    "            # if the key is in the hash map, then find the node. Delete the node and put it in the latest position.\n",
    "            node=self.dict_[key]\n",
    "            value=node.value\n",
    "            self.delete_node(node)\n",
    "            self.insert_node(node)\n",
    "            return value\n",
    "        else:\n",
    "            return -1\n",
    "\n",
    "    def put(self, key, value):\n",
    "        # Set the value if the key is not present in the cache. If the cache is at capacity remove the oldest item.\n",
    "        if key in self.dict_.keys():\n",
    "            # if the key is in the hash map, then find the node. Delete the node and put it in the latest position.\n",
    "            node=self.dict_.keys[key]\n",
    "            self.delete_node(node)\n",
    "            self.insert_node(node)\n",
    "            return\n",
    "        else:\n",
    "            # If the key is not in the hash map, create a new node.\n",
    "            self.dict_[key]=Node(key,value)\n",
    "            node=self.dict_[key]\n",
    "            if self.num_elements<5:\n",
    "                # If the linked list in not full, insert the new node.\n",
    "                self.insert_node(node)\n",
    "                self.num_elements+=1\n",
    "                return\n",
    "            else:\n",
    "                # If the linked list is full, delete the oldest node from the list and the key from the hash map.\n",
    "                old_node=self.head.next\n",
    "                old_key=old_node.key\n",
    "                del self.dict_[old_key]\n",
    "                self.delete_node(old_node)\n",
    "                # Insert the new node.\n",
    "                self.insert_node(node)\n",
    "                return\n",
    "    def insert_node(self,node):\n",
    "        # Method for insert a node to the linked list in O(1).\n",
    "        node.next=self.tail\n",
    "        self.tail.prev.next=node\n",
    "        node.prev=self.tail.prev\n",
    "        self.tail.prev=node\n",
    "    \n",
    "    def delete_node(self,node):\n",
    "        # Method for delete a node in the linked list in O(1).\n",
    "        node.prev.next=node.next\n",
    "        node.next.prev=node.prev"
   ]
  },
  {
   "cell_type": "code",
   "execution_count": 20,
   "id": "edf23f67",
   "metadata": {},
   "outputs": [],
   "source": [
    "our_cache = LRU_Cache(5)\n",
    "\n",
    "our_cache.put(1, 1);\n",
    "our_cache.put(2, 2);\n",
    "our_cache.put(3, 3);\n",
    "our_cache.put(4, 4);"
   ]
  },
  {
   "cell_type": "code",
   "execution_count": 21,
   "id": "0edb31ee",
   "metadata": {},
   "outputs": [
    {
     "data": {
      "text/plain": [
       "1"
      ]
     },
     "execution_count": 21,
     "metadata": {},
     "output_type": "execute_result"
    }
   ],
   "source": [
    "our_cache.get(1)       # returns 1"
   ]
  },
  {
   "cell_type": "code",
   "execution_count": 22,
   "id": "2618453c",
   "metadata": {},
   "outputs": [
    {
     "data": {
      "text/plain": [
       "2"
      ]
     },
     "execution_count": 22,
     "metadata": {},
     "output_type": "execute_result"
    }
   ],
   "source": [
    "our_cache.get(2)       # returns 2"
   ]
  },
  {
   "cell_type": "code",
   "execution_count": 23,
   "id": "fd038584",
   "metadata": {},
   "outputs": [
    {
     "data": {
      "text/plain": [
       "-1"
      ]
     },
     "execution_count": 23,
     "metadata": {},
     "output_type": "execute_result"
    }
   ],
   "source": [
    "our_cache.get(9)      # returns -1 because 9 is not present in the cache"
   ]
  },
  {
   "cell_type": "code",
   "execution_count": 24,
   "id": "6107cfe8",
   "metadata": {},
   "outputs": [
    {
     "data": {
      "text/plain": [
       "-1"
      ]
     },
     "execution_count": 24,
     "metadata": {},
     "output_type": "execute_result"
    }
   ],
   "source": [
    "our_cache.put(5, 5)\n",
    "our_cache.put(6, 6)\n",
    "our_cache.get(3)      # returns -1 because the cache reached it's capacity and 3 was the least recently used entry"
   ]
  },
  {
   "cell_type": "code",
   "execution_count": 25,
   "id": "70a12ba8",
   "metadata": {},
   "outputs": [
    {
     "data": {
      "text/plain": [
       "5"
      ]
     },
     "execution_count": 25,
     "metadata": {},
     "output_type": "execute_result"
    }
   ],
   "source": [
    "our_cache.num_elements"
   ]
  },
  {
   "cell_type": "code",
   "execution_count": 26,
   "id": "905f01b2",
   "metadata": {},
   "outputs": [
    {
     "name": "stdout",
     "output_type": "stream",
     "text": [
      "1 <__main__.Node object at 0x0000026CB0E730D0>\n",
      "2 <__main__.Node object at 0x0000026CB0E73A00>\n",
      "4 <__main__.Node object at 0x0000026CB0E73A30>\n",
      "5 <__main__.Node object at 0x0000026CB0E733D0>\n",
      "6 <__main__.Node object at 0x0000026CB0E735E0>\n"
     ]
    }
   ],
   "source": [
    "for key,value in our_cache.dict_.items():\n",
    "    print(key, value)"
   ]
  }
 ],
 "metadata": {
  "kernelspec": {
   "display_name": "Python 3 (ipykernel)",
   "language": "python",
   "name": "python3"
  },
  "language_info": {
   "codemirror_mode": {
    "name": "ipython",
    "version": 3
   },
   "file_extension": ".py",
   "mimetype": "text/x-python",
   "name": "python",
   "nbconvert_exporter": "python",
   "pygments_lexer": "ipython3",
   "version": "3.8.12"
  }
 },
 "nbformat": 4,
 "nbformat_minor": 5
}
