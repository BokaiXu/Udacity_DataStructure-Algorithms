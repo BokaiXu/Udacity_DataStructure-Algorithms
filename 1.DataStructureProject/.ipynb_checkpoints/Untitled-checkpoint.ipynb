{
 "cells": [
  {
   "cell_type": "code",
   "execution_count": 8,
   "id": "4db2f348",
   "metadata": {},
   "outputs": [],
   "source": [
    "class Node:\n",
    "    def __init__(self, value):\n",
    "        self.value=value\n",
    "        self.next=None\n",
    "        \n",
    "    def __repr__(self):\n",
    "        return str(self.value)"
   ]
  },
  {
   "cell_type": "code",
   "execution_count": 9,
   "id": "884f0259",
   "metadata": {},
   "outputs": [],
   "source": [
    "class Linkedlist:\n",
    "    def __init__(self):\n",
    "        self.head=None\n",
    "        \n",
    "    def __str__(self):\n",
    "        cur_head=self.head\n",
    "        out_string=\"\"\n",
    "        while cur_head:\n",
    "            out_string+=str(cur_head.value)+\"->\"\n",
    "            cur_head=cur_head.next\n",
    "        return out_string\n",
    "\n",
    "    def append(self, value):\n",
    "        if self.head is None:\n",
    "            self.head=Node(value)\n",
    "            return\n",
    "        node=self.head\n",
    "        while node.next:\n",
    "            node=node.next\n",
    "            \n",
    "        node.next=Node(value)\n",
    "    \n",
    "    def size(self):\n",
    "        size=0\n",
    "        node=self.head\n",
    "        while node:\n",
    "            size+=1\n",
    "            node=node.next\n",
    "        \n",
    "        return size"
   ]
  },
  {
   "cell_type": "code",
   "execution_count": 10,
   "id": "bf675497",
   "metadata": {},
   "outputs": [],
   "source": [
    "def union(llist_1, llist_2):\n",
    "    if llist_1.head==None:\n",
    "        if llist_2.head==None:\n",
    "            return None\n",
    "        else:\n",
    "            return llist_2\n",
    "    else:\n",
    "        if llist_2.head==None:\n",
    "            return llist_1\n",
    "        else:\n",
    "            dict_=dict()\n",
    "            llist_combine=Linkedlist()\n",
    "            head_1=llist_1.head\n",
    "            while head_1:\n",
    "                if head_1.value not in dict_:\n",
    "                    dict_[head_1.value]=1\n",
    "                    llist_combine.append(head_1)\n",
    "                head_1=head_1.next\n",
    "            head_2=llist_2.head\n",
    "            while head_2:\n",
    "                if head_2.value not in dict_:\n",
    "                    dict_[head_2.value]=1\n",
    "                    llist_combine.append(head_2)\n",
    "                head_2=head_2.next\n",
    "            return llist_combine"
   ]
  },
  {
   "cell_type": "code",
   "execution_count": 19,
   "id": "aadad7f6",
   "metadata": {},
   "outputs": [],
   "source": [
    "def intersection(llist_1, llist_2):\n",
    "    if llist_1.head==None or llist_2.head==None:\n",
    "        return None\n",
    "    else:\n",
    "        dict_=dict()\n",
    "        llist_inter=Linkedlist()\n",
    "        head_1=llist_1.head\n",
    "        while head_1:\n",
    "            if head_1.value not in dict_:\n",
    "                dict_[head_1.value]=1\n",
    "            head_1=head_1.next\n",
    "        head_2=llist_2.head\n",
    "        while head_2:\n",
    "            if head_2.value in dict_ and dict_[head_2.value]==1:\n",
    "                llist_inter.append(head_2)\n",
    "                dict_[head_2.value]+=1\n",
    "            head_2=head_2.next\n",
    "        return llist_inter"
   ]
  },
  {
   "cell_type": "code",
   "execution_count": 20,
   "id": "1b18890d",
   "metadata": {},
   "outputs": [
    {
     "name": "stdout",
     "output_type": "stream",
     "text": [
      "3->2->4->35->6->65->21->32->9->1->11->\n"
     ]
    }
   ],
   "source": [
    "# Test case 1\n",
    "linked_list_1=Linkedlist()\n",
    "linked_list_2=Linkedlist()\n",
    "\n",
    "element_1=[3,2,4,35,6,65,6,4,3,21]\n",
    "element_2=[6,32,4,9,6,1,11,21,1]\n",
    "\n",
    "for i in element_1:\n",
    "    linked_list_1.append(i)\n",
    "    \n",
    "for i in element_2:\n",
    "    linked_list_2.append(i)\n",
    "\n",
    "print(union(linked_list_1,linked_list_2))"
   ]
  },
  {
   "cell_type": "code",
   "execution_count": 21,
   "id": "ccf2693b",
   "metadata": {},
   "outputs": [
    {
     "name": "stdout",
     "output_type": "stream",
     "text": [
      "6->4->21->\n"
     ]
    }
   ],
   "source": [
    "print(intersection(linked_list_1,linked_list_2))"
   ]
  },
  {
   "cell_type": "code",
   "execution_count": 22,
   "id": "142ec58d",
   "metadata": {},
   "outputs": [
    {
     "name": "stdout",
     "output_type": "stream",
     "text": [
      "3->2->4->35->6->65->23->1->7->8->9->11->21->\n"
     ]
    }
   ],
   "source": [
    "# Test case 2\n",
    "linked_list_3=Linkedlist()\n",
    "linked_list_4=Linkedlist()\n",
    "\n",
    "element_1=[3,2,4,35,6,65,6,4,3,23]\n",
    "element_2=[1,7,8,9,11,21,1]\n",
    "\n",
    "for i in element_1:\n",
    "    linked_list_3.append(i)\n",
    "    \n",
    "for i in element_2:\n",
    "    linked_list_4.append(i)\n",
    "\n",
    "print(union(linked_list_3,linked_list_4))"
   ]
  },
  {
   "cell_type": "code",
   "execution_count": 23,
   "id": "ca97c396",
   "metadata": {},
   "outputs": [
    {
     "name": "stdout",
     "output_type": "stream",
     "text": [
      "\n"
     ]
    }
   ],
   "source": [
    "print(intersection(linked_list_3,linked_list_4))"
   ]
  }
 ],
 "metadata": {
  "kernelspec": {
   "display_name": "Python 3 (ipykernel)",
   "language": "python",
   "name": "python3"
  },
  "language_info": {
   "codemirror_mode": {
    "name": "ipython",
    "version": 3
   },
   "file_extension": ".py",
   "mimetype": "text/x-python",
   "name": "python",
   "nbconvert_exporter": "python",
   "pygments_lexer": "ipython3",
   "version": "3.8.8"
  }
 },
 "nbformat": 4,
 "nbformat_minor": 5
}
